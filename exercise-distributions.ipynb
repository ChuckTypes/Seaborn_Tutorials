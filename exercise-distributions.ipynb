{
 "cells": [
  {
   "cell_type": "markdown",
   "id": "da11b202",
   "metadata": {
    "papermill": {
     "duration": 0.006051,
     "end_time": "2022-07-05T17:29:09.592632",
     "exception": false,
     "start_time": "2022-07-05T17:29:09.586581",
     "status": "completed"
    },
    "tags": []
   },
   "source": [
    "**This notebook is an exercise in the [Data Visualization](https://www.kaggle.com/learn/data-visualization) course.  You can reference the tutorial at [this link](https://www.kaggle.com/alexisbcook/distributions).**\n",
    "\n",
    "---\n"
   ]
  },
  {
   "cell_type": "markdown",
   "id": "8cd94b59",
   "metadata": {
    "papermill": {
     "duration": 0.004839,
     "end_time": "2022-07-05T17:29:09.602683",
     "exception": false,
     "start_time": "2022-07-05T17:29:09.597844",
     "status": "completed"
    },
    "tags": []
   },
   "source": [
    "In this exercise, you will use your new knowledge to propose a solution to a real-world scenario.  To succeed, you will need to import data into Python, answer questions using the data, and generate **histograms** and **density plots** to understand patterns in the data.\n",
    "\n",
    "## Scenario\n",
    "\n",
    "You'll work with a real-world dataset containing information collected from microscopic images of breast cancer tumors, similar to the image below.\n",
    "\n",
    "![ex4_cancer_image](https://i.imgur.com/qUESsJe.png)\n",
    "\n",
    "Each tumor has been labeled as either [**benign**](https://en.wikipedia.org/wiki/Benign_tumor) (_noncancerous_) or **malignant** (_cancerous_).\n",
    "\n",
    "To learn more about how this kind of data is used to create intelligent algorithms to classify tumors in medical settings, **watch the short video [at this link](https://www.youtube.com/watch?v=9Mz84cwVmS0)**."
   ]
  },
  {
   "cell_type": "markdown",
   "id": "bf3a0b9c",
   "metadata": {
    "papermill": {
     "duration": 0.004734,
     "end_time": "2022-07-05T17:29:09.612513",
     "exception": false,
     "start_time": "2022-07-05T17:29:09.607779",
     "status": "completed"
    },
    "tags": []
   },
   "source": [
    "\n",
    "\n",
    "## Setup\n",
    "\n",
    "Run the next cell to import and configure the Python libraries that you need to complete the exercise."
   ]
  },
  {
   "cell_type": "code",
   "execution_count": 1,
   "id": "3e603e80",
   "metadata": {
    "execution": {
     "iopub.execute_input": "2022-07-05T17:29:09.625491Z",
     "iopub.status.busy": "2022-07-05T17:29:09.624077Z",
     "iopub.status.idle": "2022-07-05T17:29:10.855957Z",
     "shell.execute_reply": "2022-07-05T17:29:10.854792Z"
    },
    "papermill": {
     "duration": 1.242198,
     "end_time": "2022-07-05T17:29:10.859708",
     "exception": false,
     "start_time": "2022-07-05T17:29:09.617510",
     "status": "completed"
    },
    "tags": []
   },
   "outputs": [
    {
     "name": "stdout",
     "output_type": "stream",
     "text": [
      "Setup Complete\n"
     ]
    }
   ],
   "source": [
    "import pandas as pd\n",
    "pd.plotting.register_matplotlib_converters()\n",
    "import matplotlib.pyplot as plt\n",
    "%matplotlib inline\n",
    "import seaborn as sns\n",
    "print(\"Setup Complete\")"
   ]
  },
  {
   "cell_type": "markdown",
   "id": "8e7f43b7",
   "metadata": {
    "papermill": {
     "duration": 0.005067,
     "end_time": "2022-07-05T17:29:10.870809",
     "exception": false,
     "start_time": "2022-07-05T17:29:10.865742",
     "status": "completed"
    },
    "tags": []
   },
   "source": [
    "The questions below will give you feedback on your work. Run the following cell to set up our feedback system."
   ]
  },
  {
   "cell_type": "code",
   "execution_count": 2,
   "id": "1295138d",
   "metadata": {
    "execution": {
     "iopub.execute_input": "2022-07-05T17:29:10.883161Z",
     "iopub.status.busy": "2022-07-05T17:29:10.882536Z",
     "iopub.status.idle": "2022-07-05T17:29:35.554198Z",
     "shell.execute_reply": "2022-07-05T17:29:35.552344Z"
    },
    "papermill": {
     "duration": 24.680923,
     "end_time": "2022-07-05T17:29:35.556918",
     "exception": false,
     "start_time": "2022-07-05T17:29:10.875995",
     "status": "completed"
    },
    "tags": []
   },
   "outputs": [
    {
     "name": "stdout",
     "output_type": "stream",
     "text": [
      "Collecting git+https://github.com/Kaggle/learntools.git@master\r\n",
      "  Cloning https://github.com/Kaggle/learntools.git (to revision master) to /tmp/pip-req-build-em96sbdw\r\n",
      "  Running command git clone --filter=blob:none --quiet https://github.com/Kaggle/learntools.git /tmp/pip-req-build-em96sbdw\r\n",
      "  Resolved https://github.com/Kaggle/learntools.git to commit 908666c3a06f28a507f8da88d371a6130af6fefc\r\n",
      "  Preparing metadata (setup.py) ... \u001b[?25l-\b \bdone\r\n",
      "\u001b[?25hBuilding wheels for collected packages: learntools\r\n",
      "  Building wheel for learntools (setup.py) ... \u001b[?25l-\b \b\\\b \b|\b \b/\b \bdone\r\n",
      "\u001b[?25h  Created wheel for learntools: filename=learntools-0.3.4-py3-none-any.whl size=267787 sha256=14610dd5d51d24306b82159567710d2093afec6f69450d48d9ddefb63aa69c3a\r\n",
      "  Stored in directory: /tmp/pip-ephem-wheel-cache-fdb2a_gk/wheels/96/98/04/32b386c4641f1aea964eebb0148dc4632b25195ed8e54869c8\r\n",
      "Successfully built learntools\r\n",
      "Installing collected packages: learntools\r\n",
      "Successfully installed learntools-0.3.4\r\n",
      "\u001b[33mWARNING: Running pip as the 'root' user can result in broken permissions and conflicting behaviour with the system package manager. It is recommended to use a virtual environment instead: https://pip.pypa.io/warnings/venv\u001b[0m\u001b[33m\r\n",
      "\u001b[0mSetup Complete\n"
     ]
    }
   ],
   "source": [
    "# Set up code checking\n",
    "!pip install -U -t /kaggle/working/ git+https://github.com/Kaggle/learntools.git@master\n",
    "from learntools.core import binder\n",
    "binder.bind(globals())\n",
    "from learntools.data_viz_to_coder.ex5 import *\n",
    "print(\"Setup Complete\")"
   ]
  },
  {
   "cell_type": "markdown",
   "id": "e78e4a86",
   "metadata": {
    "papermill": {
     "duration": 0.005747,
     "end_time": "2022-07-05T17:29:35.568693",
     "exception": false,
     "start_time": "2022-07-05T17:29:35.562946",
     "status": "completed"
    },
    "tags": []
   },
   "source": [
    "## Step 1: Load the data\n",
    "\n",
    "In this step, you will load the data.\n",
    "- Load the data file into a DataFrame called `cancer_data`.  \n",
    "- The corresponding filepath is `cancer_filepath`.  \n",
    "- Use the `\"Id\"` column to label the rows."
   ]
  },
  {
   "cell_type": "code",
   "execution_count": 3,
   "id": "20e39799",
   "metadata": {
    "execution": {
     "iopub.execute_input": "2022-07-05T17:29:35.583123Z",
     "iopub.status.busy": "2022-07-05T17:29:35.582696Z",
     "iopub.status.idle": "2022-07-05T17:29:35.602468Z",
     "shell.execute_reply": "2022-07-05T17:29:35.601298Z"
    },
    "papermill": {
     "duration": 0.030098,
     "end_time": "2022-07-05T17:29:35.604757",
     "exception": false,
     "start_time": "2022-07-05T17:29:35.574659",
     "status": "completed"
    },
    "tags": []
   },
   "outputs": [
    {
     "data": {
      "application/javascript": [
       "parent.postMessage({\"jupyterEvent\": \"custom.exercise_interaction\", \"data\": {\"outcomeType\": 1, \"valueTowardsCompletion\": 0.5, \"interactionType\": 1, \"questionType\": 1, \"questionId\": \"1_LoadCancerData\", \"learnToolsVersion\": \"0.3.4\", \"failureMessage\": \"\", \"exceptionClass\": \"\", \"trace\": \"\"}}, \"*\")"
      ],
      "text/plain": [
       "<IPython.core.display.Javascript object>"
      ]
     },
     "metadata": {},
     "output_type": "display_data"
    },
    {
     "data": {
      "text/markdown": [
       "<span style=\"color:#33cc33\">Correct</span>"
      ],
      "text/plain": [
       "Correct"
      ]
     },
     "metadata": {},
     "output_type": "display_data"
    }
   ],
   "source": [
    "# Path of the files to read\n",
    "cancer_filepath = \"../input/cancer.csv\"\n",
    "\n",
    "# Fill in the line below to read the file into a variable cancer_data\n",
    "cancer_data = pd.read_csv(cancer_filepath, index_col='Id')\n",
    "\n",
    "# Run the line below with no changes to check that you've loaded the data correctly\n",
    "step_1.check()"
   ]
  },
  {
   "cell_type": "code",
   "execution_count": 4,
   "id": "f3bdaad1",
   "metadata": {
    "execution": {
     "iopub.execute_input": "2022-07-05T17:29:35.619291Z",
     "iopub.status.busy": "2022-07-05T17:29:35.618352Z",
     "iopub.status.idle": "2022-07-05T17:29:35.623234Z",
     "shell.execute_reply": "2022-07-05T17:29:35.622245Z"
    },
    "papermill": {
     "duration": 0.014643,
     "end_time": "2022-07-05T17:29:35.625537",
     "exception": false,
     "start_time": "2022-07-05T17:29:35.610894",
     "status": "completed"
    },
    "tags": []
   },
   "outputs": [],
   "source": [
    "# Lines below will give you a hint or solution code\n",
    "#step_1.hint()\n",
    "#step_1.solution()"
   ]
  },
  {
   "cell_type": "markdown",
   "id": "9049a501",
   "metadata": {
    "papermill": {
     "duration": 0.005744,
     "end_time": "2022-07-05T17:29:35.637334",
     "exception": false,
     "start_time": "2022-07-05T17:29:35.631590",
     "status": "completed"
    },
    "tags": []
   },
   "source": [
    "## Step 2: Review the data\n",
    "\n",
    "Use a Python command to print the first 5 rows of the data."
   ]
  },
  {
   "cell_type": "code",
   "execution_count": 5,
   "id": "3cf30452",
   "metadata": {
    "execution": {
     "iopub.execute_input": "2022-07-05T17:29:35.652623Z",
     "iopub.status.busy": "2022-07-05T17:29:35.651323Z",
     "iopub.status.idle": "2022-07-05T17:29:35.687189Z",
     "shell.execute_reply": "2022-07-05T17:29:35.685951Z"
    },
    "papermill": {
     "duration": 0.045634,
     "end_time": "2022-07-05T17:29:35.689591",
     "exception": false,
     "start_time": "2022-07-05T17:29:35.643957",
     "status": "completed"
    },
    "tags": []
   },
   "outputs": [
    {
     "data": {
      "text/html": [
       "<div>\n",
       "<style scoped>\n",
       "    .dataframe tbody tr th:only-of-type {\n",
       "        vertical-align: middle;\n",
       "    }\n",
       "\n",
       "    .dataframe tbody tr th {\n",
       "        vertical-align: top;\n",
       "    }\n",
       "\n",
       "    .dataframe thead th {\n",
       "        text-align: right;\n",
       "    }\n",
       "</style>\n",
       "<table border=\"1\" class=\"dataframe\">\n",
       "  <thead>\n",
       "    <tr style=\"text-align: right;\">\n",
       "      <th></th>\n",
       "      <th>Diagnosis</th>\n",
       "      <th>Radius (mean)</th>\n",
       "      <th>Texture (mean)</th>\n",
       "      <th>Perimeter (mean)</th>\n",
       "      <th>Area (mean)</th>\n",
       "      <th>Smoothness (mean)</th>\n",
       "      <th>Compactness (mean)</th>\n",
       "      <th>Concavity (mean)</th>\n",
       "      <th>Concave points (mean)</th>\n",
       "      <th>Symmetry (mean)</th>\n",
       "      <th>...</th>\n",
       "      <th>Radius (worst)</th>\n",
       "      <th>Texture (worst)</th>\n",
       "      <th>Perimeter (worst)</th>\n",
       "      <th>Area (worst)</th>\n",
       "      <th>Smoothness (worst)</th>\n",
       "      <th>Compactness (worst)</th>\n",
       "      <th>Concavity (worst)</th>\n",
       "      <th>Concave points (worst)</th>\n",
       "      <th>Symmetry (worst)</th>\n",
       "      <th>Fractal dimension (worst)</th>\n",
       "    </tr>\n",
       "    <tr>\n",
       "      <th>Id</th>\n",
       "      <th></th>\n",
       "      <th></th>\n",
       "      <th></th>\n",
       "      <th></th>\n",
       "      <th></th>\n",
       "      <th></th>\n",
       "      <th></th>\n",
       "      <th></th>\n",
       "      <th></th>\n",
       "      <th></th>\n",
       "      <th></th>\n",
       "      <th></th>\n",
       "      <th></th>\n",
       "      <th></th>\n",
       "      <th></th>\n",
       "      <th></th>\n",
       "      <th></th>\n",
       "      <th></th>\n",
       "      <th></th>\n",
       "      <th></th>\n",
       "      <th></th>\n",
       "    </tr>\n",
       "  </thead>\n",
       "  <tbody>\n",
       "    <tr>\n",
       "      <th>8510426</th>\n",
       "      <td>B</td>\n",
       "      <td>13.540</td>\n",
       "      <td>14.36</td>\n",
       "      <td>87.46</td>\n",
       "      <td>566.3</td>\n",
       "      <td>0.09779</td>\n",
       "      <td>0.08129</td>\n",
       "      <td>0.06664</td>\n",
       "      <td>0.047810</td>\n",
       "      <td>0.1885</td>\n",
       "      <td>...</td>\n",
       "      <td>15.110</td>\n",
       "      <td>19.26</td>\n",
       "      <td>99.70</td>\n",
       "      <td>711.2</td>\n",
       "      <td>0.14400</td>\n",
       "      <td>0.17730</td>\n",
       "      <td>0.23900</td>\n",
       "      <td>0.12880</td>\n",
       "      <td>0.2977</td>\n",
       "      <td>0.07259</td>\n",
       "    </tr>\n",
       "    <tr>\n",
       "      <th>8510653</th>\n",
       "      <td>B</td>\n",
       "      <td>13.080</td>\n",
       "      <td>15.71</td>\n",
       "      <td>85.63</td>\n",
       "      <td>520.0</td>\n",
       "      <td>0.10750</td>\n",
       "      <td>0.12700</td>\n",
       "      <td>0.04568</td>\n",
       "      <td>0.031100</td>\n",
       "      <td>0.1967</td>\n",
       "      <td>...</td>\n",
       "      <td>14.500</td>\n",
       "      <td>20.49</td>\n",
       "      <td>96.09</td>\n",
       "      <td>630.5</td>\n",
       "      <td>0.13120</td>\n",
       "      <td>0.27760</td>\n",
       "      <td>0.18900</td>\n",
       "      <td>0.07283</td>\n",
       "      <td>0.3184</td>\n",
       "      <td>0.08183</td>\n",
       "    </tr>\n",
       "    <tr>\n",
       "      <th>8510824</th>\n",
       "      <td>B</td>\n",
       "      <td>9.504</td>\n",
       "      <td>12.44</td>\n",
       "      <td>60.34</td>\n",
       "      <td>273.9</td>\n",
       "      <td>0.10240</td>\n",
       "      <td>0.06492</td>\n",
       "      <td>0.02956</td>\n",
       "      <td>0.020760</td>\n",
       "      <td>0.1815</td>\n",
       "      <td>...</td>\n",
       "      <td>10.230</td>\n",
       "      <td>15.66</td>\n",
       "      <td>65.13</td>\n",
       "      <td>314.9</td>\n",
       "      <td>0.13240</td>\n",
       "      <td>0.11480</td>\n",
       "      <td>0.08867</td>\n",
       "      <td>0.06227</td>\n",
       "      <td>0.2450</td>\n",
       "      <td>0.07773</td>\n",
       "    </tr>\n",
       "    <tr>\n",
       "      <th>854941</th>\n",
       "      <td>B</td>\n",
       "      <td>13.030</td>\n",
       "      <td>18.42</td>\n",
       "      <td>82.61</td>\n",
       "      <td>523.8</td>\n",
       "      <td>0.08983</td>\n",
       "      <td>0.03766</td>\n",
       "      <td>0.02562</td>\n",
       "      <td>0.029230</td>\n",
       "      <td>0.1467</td>\n",
       "      <td>...</td>\n",
       "      <td>13.300</td>\n",
       "      <td>22.81</td>\n",
       "      <td>84.46</td>\n",
       "      <td>545.9</td>\n",
       "      <td>0.09701</td>\n",
       "      <td>0.04619</td>\n",
       "      <td>0.04833</td>\n",
       "      <td>0.05013</td>\n",
       "      <td>0.1987</td>\n",
       "      <td>0.06169</td>\n",
       "    </tr>\n",
       "    <tr>\n",
       "      <th>85713702</th>\n",
       "      <td>B</td>\n",
       "      <td>8.196</td>\n",
       "      <td>16.84</td>\n",
       "      <td>51.71</td>\n",
       "      <td>201.9</td>\n",
       "      <td>0.08600</td>\n",
       "      <td>0.05943</td>\n",
       "      <td>0.01588</td>\n",
       "      <td>0.005917</td>\n",
       "      <td>0.1769</td>\n",
       "      <td>...</td>\n",
       "      <td>8.964</td>\n",
       "      <td>21.96</td>\n",
       "      <td>57.26</td>\n",
       "      <td>242.2</td>\n",
       "      <td>0.12970</td>\n",
       "      <td>0.13570</td>\n",
       "      <td>0.06880</td>\n",
       "      <td>0.02564</td>\n",
       "      <td>0.3105</td>\n",
       "      <td>0.07409</td>\n",
       "    </tr>\n",
       "  </tbody>\n",
       "</table>\n",
       "<p>5 rows × 31 columns</p>\n",
       "</div>"
      ],
      "text/plain": [
       "         Diagnosis  Radius (mean)  Texture (mean)  Perimeter (mean)  \\\n",
       "Id                                                                    \n",
       "8510426          B         13.540           14.36             87.46   \n",
       "8510653          B         13.080           15.71             85.63   \n",
       "8510824          B          9.504           12.44             60.34   \n",
       "854941           B         13.030           18.42             82.61   \n",
       "85713702         B          8.196           16.84             51.71   \n",
       "\n",
       "          Area (mean)  Smoothness (mean)  Compactness (mean)  \\\n",
       "Id                                                             \n",
       "8510426         566.3            0.09779             0.08129   \n",
       "8510653         520.0            0.10750             0.12700   \n",
       "8510824         273.9            0.10240             0.06492   \n",
       "854941          523.8            0.08983             0.03766   \n",
       "85713702        201.9            0.08600             0.05943   \n",
       "\n",
       "          Concavity (mean)  Concave points (mean)  Symmetry (mean)  ...  \\\n",
       "Id                                                                  ...   \n",
       "8510426            0.06664               0.047810           0.1885  ...   \n",
       "8510653            0.04568               0.031100           0.1967  ...   \n",
       "8510824            0.02956               0.020760           0.1815  ...   \n",
       "854941             0.02562               0.029230           0.1467  ...   \n",
       "85713702           0.01588               0.005917           0.1769  ...   \n",
       "\n",
       "          Radius (worst)  Texture (worst)  Perimeter (worst)  Area (worst)  \\\n",
       "Id                                                                           \n",
       "8510426           15.110            19.26              99.70         711.2   \n",
       "8510653           14.500            20.49              96.09         630.5   \n",
       "8510824           10.230            15.66              65.13         314.9   \n",
       "854941            13.300            22.81              84.46         545.9   \n",
       "85713702           8.964            21.96              57.26         242.2   \n",
       "\n",
       "          Smoothness (worst)  Compactness (worst)  Concavity (worst)  \\\n",
       "Id                                                                     \n",
       "8510426              0.14400              0.17730            0.23900   \n",
       "8510653              0.13120              0.27760            0.18900   \n",
       "8510824              0.13240              0.11480            0.08867   \n",
       "854941               0.09701              0.04619            0.04833   \n",
       "85713702             0.12970              0.13570            0.06880   \n",
       "\n",
       "          Concave points (worst)  Symmetry (worst)  Fractal dimension (worst)  \n",
       "Id                                                                             \n",
       "8510426                  0.12880            0.2977                    0.07259  \n",
       "8510653                  0.07283            0.3184                    0.08183  \n",
       "8510824                  0.06227            0.2450                    0.07773  \n",
       "854941                   0.05013            0.1987                    0.06169  \n",
       "85713702                 0.02564            0.3105                    0.07409  \n",
       "\n",
       "[5 rows x 31 columns]"
      ]
     },
     "execution_count": 5,
     "metadata": {},
     "output_type": "execute_result"
    }
   ],
   "source": [
    "# Print the first five rows of the data\n",
    "cancer_data.head() # Your code here"
   ]
  },
  {
   "cell_type": "markdown",
   "id": "93f3cf1f",
   "metadata": {
    "papermill": {
     "duration": 0.0063,
     "end_time": "2022-07-05T17:29:35.702378",
     "exception": false,
     "start_time": "2022-07-05T17:29:35.696078",
     "status": "completed"
    },
    "tags": []
   },
   "source": [
    "In the dataset, each row corresponds to a different image.  The dataset has 31 different columns, corresponding to:\n",
    "- 1 column (`'Diagnosis'`) that classifies tumors as either benign (which appears in the dataset as **`B`**) or malignant (__`M`__), and\n",
    "- 30 columns containing different measurements collected from the images.\n",
    "\n",
    "Use the first 5 rows of the data to answer the questions below."
   ]
  },
  {
   "cell_type": "code",
   "execution_count": 6,
   "id": "c03a2b9c",
   "metadata": {
    "execution": {
     "iopub.execute_input": "2022-07-05T17:29:35.718170Z",
     "iopub.status.busy": "2022-07-05T17:29:35.717128Z",
     "iopub.status.idle": "2022-07-05T17:29:35.727106Z",
     "shell.execute_reply": "2022-07-05T17:29:35.725959Z"
    },
    "papermill": {
     "duration": 0.0196,
     "end_time": "2022-07-05T17:29:35.729091",
     "exception": false,
     "start_time": "2022-07-05T17:29:35.709491",
     "status": "completed"
    },
    "tags": []
   },
   "outputs": [
    {
     "data": {
      "application/javascript": [
       "parent.postMessage({\"jupyterEvent\": \"custom.exercise_interaction\", \"data\": {\"outcomeType\": 1, \"valueTowardsCompletion\": 0.5, \"interactionType\": 1, \"questionType\": 1, \"questionId\": \"2_ReviewData\", \"learnToolsVersion\": \"0.3.4\", \"failureMessage\": \"\", \"exceptionClass\": \"\", \"trace\": \"\"}}, \"*\")"
      ],
      "text/plain": [
       "<IPython.core.display.Javascript object>"
      ]
     },
     "metadata": {},
     "output_type": "display_data"
    },
    {
     "data": {
      "text/markdown": [
       "<span style=\"color:#33cc33\">Correct</span>"
      ],
      "text/plain": [
       "Correct"
      ]
     },
     "metadata": {},
     "output_type": "display_data"
    }
   ],
   "source": [
    "# Fill in the line below: In the first five rows of the data, what is the\n",
    "# largest value for 'Perimeter (mean)'?\n",
    "max_perim = 87.46\n",
    "\n",
    "# Fill in the line below: What is the value for 'Radius (mean)' for the tumor with Id 8510824?\n",
    "mean_radius = 9.504\n",
    "\n",
    "# Check your answers\n",
    "step_2.check()"
   ]
  },
  {
   "cell_type": "code",
   "execution_count": 7,
   "id": "306b288c",
   "metadata": {
    "execution": {
     "iopub.execute_input": "2022-07-05T17:29:35.745192Z",
     "iopub.status.busy": "2022-07-05T17:29:35.744555Z",
     "iopub.status.idle": "2022-07-05T17:29:35.748948Z",
     "shell.execute_reply": "2022-07-05T17:29:35.748116Z"
    },
    "papermill": {
     "duration": 0.015286,
     "end_time": "2022-07-05T17:29:35.750995",
     "exception": false,
     "start_time": "2022-07-05T17:29:35.735709",
     "status": "completed"
    },
    "tags": []
   },
   "outputs": [],
   "source": [
    "# Lines below will give you a hint or solution code\n",
    "#step_2.hint()\n",
    "#step_2.solution()"
   ]
  },
  {
   "cell_type": "markdown",
   "id": "1e91b020",
   "metadata": {
    "papermill": {
     "duration": 0.006748,
     "end_time": "2022-07-05T17:29:35.764690",
     "exception": false,
     "start_time": "2022-07-05T17:29:35.757942",
     "status": "completed"
    },
    "tags": []
   },
   "source": [
    "## Step 3: Investigating differences"
   ]
  },
  {
   "cell_type": "markdown",
   "id": "e134d07d",
   "metadata": {
    "papermill": {
     "duration": 0.006935,
     "end_time": "2022-07-05T17:29:35.778686",
     "exception": false,
     "start_time": "2022-07-05T17:29:35.771751",
     "status": "completed"
    },
    "tags": []
   },
   "source": [
    "#### Part A\n",
    "\n",
    "Use the code cell below to create two histograms that show the distribution in values for `'Area (mean)'`, separately for both benign and malignant tumors.  (_To permit easy comparison, create a single figure containing both histograms in the code cell below._)"
   ]
  },
  {
   "cell_type": "code",
   "execution_count": 8,
   "id": "779a120c",
   "metadata": {
    "execution": {
     "iopub.execute_input": "2022-07-05T17:29:35.794768Z",
     "iopub.status.busy": "2022-07-05T17:29:35.794350Z",
     "iopub.status.idle": "2022-07-05T17:29:36.161025Z",
     "shell.execute_reply": "2022-07-05T17:29:36.160250Z"
    },
    "papermill": {
     "duration": 0.378045,
     "end_time": "2022-07-05T17:29:36.163683",
     "exception": false,
     "start_time": "2022-07-05T17:29:35.785638",
     "status": "completed"
    },
    "tags": []
   },
   "outputs": [
    {
     "data": {
      "application/javascript": [
       "parent.postMessage({\"jupyterEvent\": \"custom.exercise_interaction\", \"data\": {\"outcomeType\": 1, \"valueTowardsCompletion\": 0.5, \"interactionType\": 1, \"questionType\": 2, \"questionId\": \"3.1_PlotHist\", \"learnToolsVersion\": \"0.3.4\", \"failureMessage\": \"\", \"exceptionClass\": \"\", \"trace\": \"\"}}, \"*\")"
      ],
      "text/plain": [
       "<IPython.core.display.Javascript object>"
      ]
     },
     "metadata": {},
     "output_type": "display_data"
    },
    {
     "data": {
      "text/markdown": [
       "<span style=\"color:#33cc33\">Correct</span>"
      ],
      "text/plain": [
       "Correct"
      ]
     },
     "metadata": {},
     "output_type": "display_data"
    },
    {
     "data": {
      "image/png": "[encoded data removed]",
      "text/plain": [
       "<Figure size 432x288 with 1 Axes>"
      ]
     },
     "metadata": {
      "needs_background": "light"
     },
     "output_type": "display_data"
    }
   ],
   "source": [
    "# Histograms for benign and maligant tumors\n",
    "sns.histplot(data=cancer_data, x= 'Area (mean)', hue='Diagnosis')\n",
    "\n",
    "# Make the title for histogram\n",
    "plt.title(\"Tumor Size by Area (mean)\")\n",
    "\n",
    "# Check your answer\n",
    "step_3.a.check()"
   ]
  },
  {
   "cell_type": "code",
   "execution_count": 9,
   "id": "efca085a",
   "metadata": {
    "execution": {
     "iopub.execute_input": "2022-07-05T17:29:36.180474Z",
     "iopub.status.busy": "2022-07-05T17:29:36.180040Z",
     "iopub.status.idle": "2022-07-05T17:29:36.184565Z",
     "shell.execute_reply": "2022-07-05T17:29:36.183645Z"
    },
    "papermill": {
     "duration": 0.015456,
     "end_time": "2022-07-05T17:29:36.186877",
     "exception": false,
     "start_time": "2022-07-05T17:29:36.171421",
     "status": "completed"
    },
    "tags": []
   },
   "outputs": [],
   "source": [
    "# Lines below will give you a hint or solution code\n",
    "#step_3.a.hint()\n",
    "#step_3.a.solution_plot()"
   ]
  },
  {
   "cell_type": "markdown",
   "id": "2230ef08",
   "metadata": {
    "papermill": {
     "duration": 0.006805,
     "end_time": "2022-07-05T17:29:36.200826",
     "exception": false,
     "start_time": "2022-07-05T17:29:36.194021",
     "status": "completed"
    },
    "tags": []
   },
   "source": [
    "#### Part B\n",
    "\n",
    "A researcher approaches you for help with identifying how the `'Area (mean)'` column can be used to understand the difference between benign and malignant tumors.  Based on the histograms above, \n",
    "- Do malignant tumors have higher or lower values for `'Area (mean)'` (relative to benign tumors), on average?\n",
    "- Which tumor type seems to have a larger range of potential values?"
   ]
  },
  {
   "cell_type": "code",
   "execution_count": 10,
   "id": "ee1ff0b7",
   "metadata": {
    "execution": {
     "iopub.execute_input": "2022-07-05T17:29:36.217115Z",
     "iopub.status.busy": "2022-07-05T17:29:36.216476Z",
     "iopub.status.idle": "2022-07-05T17:29:36.220806Z",
     "shell.execute_reply": "2022-07-05T17:29:36.219977Z"
    },
    "papermill": {
     "duration": 0.014703,
     "end_time": "2022-07-05T17:29:36.222718",
     "exception": false,
     "start_time": "2022-07-05T17:29:36.208015",
     "status": "completed"
    },
    "tags": []
   },
   "outputs": [],
   "source": [
    "#step_3.b.hint()"
   ]
  },
  {
   "cell_type": "code",
   "execution_count": 11,
   "id": "dcf79da8",
   "metadata": {
    "execution": {
     "iopub.execute_input": "2022-07-05T17:29:36.239321Z",
     "iopub.status.busy": "2022-07-05T17:29:36.238656Z",
     "iopub.status.idle": "2022-07-05T17:29:36.246731Z",
     "shell.execute_reply": "2022-07-05T17:29:36.245637Z"
    },
    "papermill": {
     "duration": 0.018884,
     "end_time": "2022-07-05T17:29:36.248929",
     "exception": false,
     "start_time": "2022-07-05T17:29:36.230045",
     "status": "completed"
    },
    "tags": []
   },
   "outputs": [
    {
     "data": {
      "application/javascript": [
       "parent.postMessage({\"jupyterEvent\": \"custom.exercise_interaction\", \"data\": {\"interactionType\": 3, \"questionType\": 4, \"questionId\": \"3.2_ThinkHist\", \"learnToolsVersion\": \"0.3.4\", \"valueTowardsCompletion\": 0.0, \"failureMessage\": \"\", \"exceptionClass\": \"\", \"trace\": \"\", \"outcomeType\": 4}}, \"*\")"
      ],
      "text/plain": [
       "<IPython.core.display.Javascript object>"
      ]
     },
     "metadata": {},
     "output_type": "display_data"
    },
    {
     "data": {
      "text/markdown": [
       "<span style=\"color:#33cc99\">Solution:</span> Malignant tumors have higher values for `'Area (mean)'`, on average. Malignant tumors have a larger range of potential values."
      ],
      "text/plain": [
       "Solution: Malignant tumors have higher values for `'Area (mean)'`, on average. Malignant tumors have a larger range of potential values."
      ]
     },
     "metadata": {},
     "output_type": "display_data"
    }
   ],
   "source": [
    "# Check your answer (Run this code cell to receive credit!)\n",
    "step_3.b.solution()"
   ]
  },
  {
   "cell_type": "markdown",
   "id": "e77e40c4",
   "metadata": {
    "papermill": {
     "duration": 0.007021,
     "end_time": "2022-07-05T17:29:36.263323",
     "exception": false,
     "start_time": "2022-07-05T17:29:36.256302",
     "status": "completed"
    },
    "tags": []
   },
   "source": [
    "## Step 4: A very useful column\n",
    "\n",
    "#### Part A\n",
    "\n",
    "Use the code cell below to create two KDE plots that show the distribution in values for `'Radius (worst)'`, separately for both benign and malignant tumors.  (_To permit easy comparison, create a single figure containing both KDE plots in the code cell below._)"
   ]
  },
  {
   "cell_type": "code",
   "execution_count": 12,
   "id": "a5a95ee8",
   "metadata": {
    "execution": {
     "iopub.execute_input": "2022-07-05T17:29:36.279700Z",
     "iopub.status.busy": "2022-07-05T17:29:36.279280Z",
     "iopub.status.idle": "2022-07-05T17:29:36.516760Z",
     "shell.execute_reply": "2022-07-05T17:29:36.515492Z"
    },
    "papermill": {
     "duration": 0.248555,
     "end_time": "2022-07-05T17:29:36.519212",
     "exception": false,
     "start_time": "2022-07-05T17:29:36.270657",
     "status": "completed"
    },
    "tags": []
   },
   "outputs": [
    {
     "data": {
      "application/javascript": [
       "parent.postMessage({\"jupyterEvent\": \"custom.exercise_interaction\", \"data\": {\"outcomeType\": 1, \"valueTowardsCompletion\": 0.5, \"interactionType\": 1, \"questionType\": 2, \"questionId\": \"4.1_PlotThreshold\", \"learnToolsVersion\": \"0.3.4\", \"failureMessage\": \"\", \"exceptionClass\": \"\", \"trace\": \"\"}}, \"*\")"
      ],
      "text/plain": [
       "<IPython.core.display.Javascript object>"
      ]
     },
     "metadata": {},
     "output_type": "display_data"
    },
    {
     "data": {
      "text/markdown": [
       "<span style=\"color:#33cc33\">Correct</span>"
      ],
      "text/plain": [
       "Correct"
      ]
     },
     "metadata": {},
     "output_type": "display_data"
    },
    {
     "data": {
      "image/png": "[encoded data removed]",
      "text/plain": [
       "<Figure size 432x288 with 1 Axes>"
      ]
     },
     "metadata": {
      "needs_background": "light"
     },
     "output_type": "display_data"
    }
   ],
   "source": [
    "# KDE plots for benign and malignant tumors\n",
    "sns.kdeplot(data= cancer_data, x= 'Radius (worst)', hue = 'Diagnosis', shade=True) \n",
    "\n",
    "plt.title('Tumor Radii by Density')\n",
    "\n",
    "# Check your answer\n",
    "step_4.a.check()"
   ]
  },
  {
   "cell_type": "code",
   "execution_count": 13,
   "id": "dff52072",
   "metadata": {
    "execution": {
     "iopub.execute_input": "2022-07-05T17:29:36.536888Z",
     "iopub.status.busy": "2022-07-05T17:29:36.536484Z",
     "iopub.status.idle": "2022-07-05T17:29:36.540799Z",
     "shell.execute_reply": "2022-07-05T17:29:36.539709Z"
    },
    "papermill": {
     "duration": 0.015988,
     "end_time": "2022-07-05T17:29:36.543066",
     "exception": false,
     "start_time": "2022-07-05T17:29:36.527078",
     "status": "completed"
    },
    "tags": []
   },
   "outputs": [],
   "source": [
    "# Lines below will give you a hint or solution code\n",
    "#step_4.a.hint()\n",
    "#step_4.a.solution_plot()"
   ]
  },
  {
   "cell_type": "markdown",
   "id": "f689b4b8",
   "metadata": {
    "papermill": {
     "duration": 0.007501,
     "end_time": "2022-07-05T17:29:36.558337",
     "exception": false,
     "start_time": "2022-07-05T17:29:36.550836",
     "status": "completed"
    },
    "tags": []
   },
   "source": [
    "#### Part B\n",
    "\n",
    "A hospital has recently started using an algorithm that can diagnose tumors with high accuracy.  Given a tumor with a value for `'Radius (worst)'` of 25, do you think the algorithm is more likely to classify the tumor as benign or malignant?"
   ]
  },
  {
   "cell_type": "code",
   "execution_count": 14,
   "id": "24484309",
   "metadata": {
    "execution": {
     "iopub.execute_input": "2022-07-05T17:29:36.575874Z",
     "iopub.status.busy": "2022-07-05T17:29:36.575159Z",
     "iopub.status.idle": "2022-07-05T17:29:36.579052Z",
     "shell.execute_reply": "2022-07-05T17:29:36.578314Z"
    },
    "papermill": {
     "duration": 0.014736,
     "end_time": "2022-07-05T17:29:36.580878",
     "exception": false,
     "start_time": "2022-07-05T17:29:36.566142",
     "status": "completed"
    },
    "tags": []
   },
   "outputs": [],
   "source": [
    "#step_4.b.hint()"
   ]
  },
  {
   "cell_type": "code",
   "execution_count": 15,
   "id": "37657b97",
   "metadata": {
    "execution": {
     "iopub.execute_input": "2022-07-05T17:29:36.598541Z",
     "iopub.status.busy": "2022-07-05T17:29:36.597858Z",
     "iopub.status.idle": "2022-07-05T17:29:36.604458Z",
     "shell.execute_reply": "2022-07-05T17:29:36.603759Z"
    },
    "papermill": {
     "duration": 0.017512,
     "end_time": "2022-07-05T17:29:36.606267",
     "exception": false,
     "start_time": "2022-07-05T17:29:36.588755",
     "status": "completed"
    },
    "tags": []
   },
   "outputs": [
    {
     "data": {
      "application/javascript": [
       "parent.postMessage({\"jupyterEvent\": \"custom.exercise_interaction\", \"data\": {\"interactionType\": 3, \"questionType\": 4, \"questionId\": \"4.2_ThinkThreshold\", \"learnToolsVersion\": \"0.3.4\", \"valueTowardsCompletion\": 0.0, \"failureMessage\": \"\", \"exceptionClass\": \"\", \"trace\": \"\", \"outcomeType\": 4}}, \"*\")"
      ],
      "text/plain": [
       "<IPython.core.display.Javascript object>"
      ]
     },
     "metadata": {},
     "output_type": "display_data"
    },
    {
     "data": {
      "text/markdown": [
       "<span style=\"color:#33cc99\">Solution:</span> The algorithm is more likely to classify the tumor as malignant. This is because the curve for malignant tumors is much higher than the curve for benign tumors around a value of 25 -- and an algorithm that gets high accuracy is likely to make decisions based on this pattern in the data."
      ],
      "text/plain": [
       "Solution: The algorithm is more likely to classify the tumor as malignant. This is because the curve for malignant tumors is much higher than the curve for benign tumors around a value of 25 -- and an algorithm that gets high accuracy is likely to make decisions based on this pattern in the data."
      ]
     },
     "metadata": {},
     "output_type": "display_data"
    }
   ],
   "source": [
    "# Check your answer (Run this code cell to receive credit!)\n",
    "step_4.b.solution()"
   ]
  },
  {
   "cell_type": "markdown",
   "id": "c5c0b143",
   "metadata": {
    "papermill": {
     "duration": 0.00757,
     "end_time": "2022-07-05T17:29:36.621764",
     "exception": false,
     "start_time": "2022-07-05T17:29:36.614194",
     "status": "completed"
    },
    "tags": []
   },
   "source": [
    "## Keep going\n",
    "\n",
    "Review all that you've learned and explore how to further customize your plots in the **[next tutorial](https://www.kaggle.com/alexisbcook/choosing-plot-types-and-custom-styles)**!"
   ]
  },
  {
   "cell_type": "markdown",
   "id": "0750d074",
   "metadata": {
    "papermill": {
     "duration": 0.007572,
     "end_time": "2022-07-05T17:29:36.637275",
     "exception": false,
     "start_time": "2022-07-05T17:29:36.629703",
     "status": "completed"
    },
    "tags": []
   },
   "source": [
    "---\n",
    "\n",
    "\n",
    "\n",
    "\n",
    "*Have questions or comments? Visit the [course discussion forum](https://www.kaggle.com/learn/data-visualization/discussion) to chat with other learners.*"
   ]
  }
 ],
 "metadata": {
  "kernelspec": {
   "display_name": "Python 3",
   "language": "python",
   "name": "python3"
  },
  "language_info": {
   "codemirror_mode": {
    "name": "ipython",
    "version": 3
   },
   "file_extension": ".py",
   "mimetype": "text/x-python",
   "name": "python",
   "nbconvert_exporter": "python",
   "pygments_lexer": "ipython3",
   "version": "3.7.12"
  },
  "papermill": {
   "default_parameters": {},
   "duration": 37.133561,
   "end_time": "2022-07-05T17:29:37.366031",
   "environment_variables": {},
   "exception": null,
   "input_path": "__notebook__.ipynb",
   "output_path": "__notebook__.ipynb",
   "parameters": {},
   "start_time": "2022-07-05T17:29:00.232470",
   "version": "2.3.4"
  }
 },
 "nbformat": 4,
 "nbformat_minor": 5
}
