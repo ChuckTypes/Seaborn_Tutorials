{
 "cells": [
  {
   "cell_type": "markdown",
   "id": "ca3ebf07",
   "metadata": {
    "papermill": {
     "duration": 0.010495,
     "end_time": "2022-07-04T16:44:32.317521",
     "exception": false,
     "start_time": "2022-07-04T16:44:32.307026",
     "status": "completed"
    },
    "tags": []
   },
   "source": [
    "**This notebook is an exercise in the [Data Visualization](https://www.kaggle.com/learn/data-visualization) course.  You can reference the tutorial at [this link](https://www.kaggle.com/alexisbcook/scatter-plots).**\n",
    "\n",
    "---\n"
   ]
  },
  {
   "cell_type": "markdown",
   "id": "b59c1860",
   "metadata": {
    "papermill": {
     "duration": 0.00896,
     "end_time": "2022-07-04T16:44:32.336320",
     "exception": false,
     "start_time": "2022-07-04T16:44:32.327360",
     "status": "completed"
    },
    "tags": []
   },
   "source": [
    "In this exercise, you will use your new knowledge to propose a solution to a real-world scenario.  To succeed, you will need to import data into Python, answer questions using the data, and generate **scatter plots** to understand patterns in the data.\n",
    "\n",
    "## Scenario\n",
    "\n",
    "You work for a major candy producer, and your goal is to write a report that your company can use to guide the design of its next product.  Soon after starting your research, you stumble across this [very interesting dataset](https://fivethirtyeight.com/features/the-ultimate-halloween-candy-power-ranking/) containing results from a fun survey to crowdsource favorite candies.\n",
    "\n",
    "## Setup\n",
    "\n",
    "Run the next cell to import and configure the Python libraries that you need to complete the exercise."
   ]
  },
  {
   "cell_type": "code",
   "execution_count": 1,
   "id": "b2a9f7f7",
   "metadata": {
    "execution": {
     "iopub.execute_input": "2022-07-04T16:44:32.356529Z",
     "iopub.status.busy": "2022-07-04T16:44:32.356077Z",
     "iopub.status.idle": "2022-07-04T16:44:33.367723Z",
     "shell.execute_reply": "2022-07-04T16:44:33.366597Z"
    },
    "papermill": {
     "duration": 1.024858,
     "end_time": "2022-07-04T16:44:33.370440",
     "exception": false,
     "start_time": "2022-07-04T16:44:32.345582",
     "status": "completed"
    },
    "tags": []
   },
   "outputs": [
    {
     "name": "stdout",
     "output_type": "stream",
     "text": [
      "Setup Complete\n"
     ]
    }
   ],
   "source": [
    "import pandas as pd\n",
    "pd.plotting.register_matplotlib_converters()\n",
    "import matplotlib.pyplot as plt\n",
    "%matplotlib inline\n",
    "import seaborn as sns\n",
    "print(\"Setup Complete\")"
   ]
  },
  {
   "cell_type": "markdown",
   "id": "76d6b989",
   "metadata": {
    "papermill": {
     "duration": 0.008846,
     "end_time": "2022-07-04T16:44:33.388803",
     "exception": false,
     "start_time": "2022-07-04T16:44:33.379957",
     "status": "completed"
    },
    "tags": []
   },
   "source": [
    "The questions below will give you feedback on your work. Run the following cell to set up our feedback system."
   ]
  },
  {
   "cell_type": "code",
   "execution_count": 2,
   "id": "52d6e1e2",
   "metadata": {
    "execution": {
     "iopub.execute_input": "2022-07-04T16:44:33.408719Z",
     "iopub.status.busy": "2022-07-04T16:44:33.408303Z",
     "iopub.status.idle": "2022-07-04T16:44:33.467433Z",
     "shell.execute_reply": "2022-07-04T16:44:33.466268Z"
    },
    "papermill": {
     "duration": 0.071603,
     "end_time": "2022-07-04T16:44:33.469593",
     "exception": false,
     "start_time": "2022-07-04T16:44:33.397990",
     "status": "completed"
    },
    "tags": []
   },
   "outputs": [
    {
     "name": "stdout",
     "output_type": "stream",
     "text": [
      "Setup Complete\n"
     ]
    }
   ],
   "source": [
    "# Set up code checking\n",
    "import os\n",
    "if not os.path.exists(\"../input/candy.csv\"):\n",
    "    os.symlink(\"../input/data-for-datavis/candy.csv\", \"../input/candy.csv\") \n",
    "from learntools.core import binder\n",
    "binder.bind(globals())\n",
    "from learntools.data_viz_to_coder.ex4 import *\n",
    "print(\"Setup Complete\")"
   ]
  },
  {
   "cell_type": "markdown",
   "id": "d9ce06dd",
   "metadata": {
    "papermill": {
     "duration": 0.008913,
     "end_time": "2022-07-04T16:44:33.488052",
     "exception": false,
     "start_time": "2022-07-04T16:44:33.479139",
     "status": "completed"
    },
    "tags": []
   },
   "source": [
    "## Step 1: Load the Data\n",
    "\n",
    "Read the candy data file into `candy_data`.  Use the `\"id\"` column to label the rows."
   ]
  },
  {
   "cell_type": "code",
   "execution_count": 3,
   "id": "6f7b5a54",
   "metadata": {
    "execution": {
     "iopub.execute_input": "2022-07-04T16:44:33.507746Z",
     "iopub.status.busy": "2022-07-04T16:44:33.507361Z",
     "iopub.status.idle": "2022-07-04T16:44:33.522159Z",
     "shell.execute_reply": "2022-07-04T16:44:33.521125Z"
    },
    "papermill": {
     "duration": 0.027063,
     "end_time": "2022-07-04T16:44:33.524267",
     "exception": false,
     "start_time": "2022-07-04T16:44:33.497204",
     "status": "completed"
    },
    "tags": []
   },
   "outputs": [
    {
     "data": {
      "application/javascript": [
       "parent.postMessage({\"jupyterEvent\": \"custom.exercise_interaction\", \"data\": {\"outcomeType\": 1, \"valueTowardsCompletion\": 0.3333333333333333, \"interactionType\": 1, \"questionType\": 1, \"questionId\": \"1_LoadData\", \"learnToolsVersion\": \"0.3.4\", \"failureMessage\": \"\", \"exceptionClass\": \"\", \"trace\": \"\"}}, \"*\")"
      ],
      "text/plain": [
       "<IPython.core.display.Javascript object>"
      ]
     },
     "metadata": {},
     "output_type": "display_data"
    },
    {
     "data": {
      "text/markdown": [
       "<span style=\"color:#33cc33\">Correct</span>"
      ],
      "text/plain": [
       "Correct"
      ]
     },
     "metadata": {},
     "output_type": "display_data"
    }
   ],
   "source": [
    "# Path of the file to read\n",
    "candy_filepath = \"../input/candy.csv\"\n",
    "\n",
    "# Fill in the line below to read the file into a variable candy_data\n",
    "candy_data = pd.read_csv(candy_filepath, index_col='id')\n",
    "\n",
    "# Run the line below with no changes to check that you've loaded the data correctly\n",
    "step_1.check()"
   ]
  },
  {
   "cell_type": "code",
   "execution_count": 4,
   "id": "fbd65e1c",
   "metadata": {
    "execution": {
     "iopub.execute_input": "2022-07-04T16:44:33.544720Z",
     "iopub.status.busy": "2022-07-04T16:44:33.544340Z",
     "iopub.status.idle": "2022-07-04T16:44:33.548424Z",
     "shell.execute_reply": "2022-07-04T16:44:33.547436Z"
    },
    "papermill": {
     "duration": 0.016613,
     "end_time": "2022-07-04T16:44:33.550497",
     "exception": false,
     "start_time": "2022-07-04T16:44:33.533884",
     "status": "completed"
    },
    "tags": []
   },
   "outputs": [],
   "source": [
    "# Lines below will give you a hint or solution code\n",
    "#step_1.hint()\n",
    "#step_1.solution()"
   ]
  },
  {
   "cell_type": "markdown",
   "id": "72a0854e",
   "metadata": {
    "papermill": {
     "duration": 0.008926,
     "end_time": "2022-07-04T16:44:33.569404",
     "exception": false,
     "start_time": "2022-07-04T16:44:33.560478",
     "status": "completed"
    },
    "tags": []
   },
   "source": [
    "## Step 2: Review the data\n",
    "\n",
    "Use a Python command to print the first five rows of the data."
   ]
  },
  {
   "cell_type": "code",
   "execution_count": 5,
   "id": "5dbdda21",
   "metadata": {
    "execution": {
     "iopub.execute_input": "2022-07-04T16:44:33.589272Z",
     "iopub.status.busy": "2022-07-04T16:44:33.588911Z",
     "iopub.status.idle": "2022-07-04T16:44:33.609037Z",
     "shell.execute_reply": "2022-07-04T16:44:33.608065Z"
    },
    "papermill": {
     "duration": 0.032869,
     "end_time": "2022-07-04T16:44:33.611154",
     "exception": false,
     "start_time": "2022-07-04T16:44:33.578285",
     "status": "completed"
    },
    "tags": []
   },
   "outputs": [
    {
     "data": {
      "text/html": [
       "<div>\n",
       "<style scoped>\n",
       "    .dataframe tbody tr th:only-of-type {\n",
       "        vertical-align: middle;\n",
       "    }\n",
       "\n",
       "    .dataframe tbody tr th {\n",
       "        vertical-align: top;\n",
       "    }\n",
       "\n",
       "    .dataframe thead th {\n",
       "        text-align: right;\n",
       "    }\n",
       "</style>\n",
       "<table border=\"1\" class=\"dataframe\">\n",
       "  <thead>\n",
       "    <tr style=\"text-align: right;\">\n",
       "      <th></th>\n",
       "      <th>competitorname</th>\n",
       "      <th>chocolate</th>\n",
       "      <th>fruity</th>\n",
       "      <th>caramel</th>\n",
       "      <th>peanutyalmondy</th>\n",
       "      <th>nougat</th>\n",
       "      <th>crispedricewafer</th>\n",
       "      <th>hard</th>\n",
       "      <th>bar</th>\n",
       "      <th>pluribus</th>\n",
       "      <th>sugarpercent</th>\n",
       "      <th>pricepercent</th>\n",
       "      <th>winpercent</th>\n",
       "    </tr>\n",
       "    <tr>\n",
       "      <th>id</th>\n",
       "      <th></th>\n",
       "      <th></th>\n",
       "      <th></th>\n",
       "      <th></th>\n",
       "      <th></th>\n",
       "      <th></th>\n",
       "      <th></th>\n",
       "      <th></th>\n",
       "      <th></th>\n",
       "      <th></th>\n",
       "      <th></th>\n",
       "      <th></th>\n",
       "      <th></th>\n",
       "    </tr>\n",
       "  </thead>\n",
       "  <tbody>\n",
       "    <tr>\n",
       "      <th>0</th>\n",
       "      <td>100 Grand</td>\n",
       "      <td>Yes</td>\n",
       "      <td>No</td>\n",
       "      <td>Yes</td>\n",
       "      <td>No</td>\n",
       "      <td>No</td>\n",
       "      <td>Yes</td>\n",
       "      <td>No</td>\n",
       "      <td>Yes</td>\n",
       "      <td>No</td>\n",
       "      <td>0.732</td>\n",
       "      <td>0.860</td>\n",
       "      <td>66.971725</td>\n",
       "    </tr>\n",
       "    <tr>\n",
       "      <th>1</th>\n",
       "      <td>3 Musketeers</td>\n",
       "      <td>Yes</td>\n",
       "      <td>No</td>\n",
       "      <td>No</td>\n",
       "      <td>No</td>\n",
       "      <td>Yes</td>\n",
       "      <td>No</td>\n",
       "      <td>No</td>\n",
       "      <td>Yes</td>\n",
       "      <td>No</td>\n",
       "      <td>0.604</td>\n",
       "      <td>0.511</td>\n",
       "      <td>67.602936</td>\n",
       "    </tr>\n",
       "    <tr>\n",
       "      <th>2</th>\n",
       "      <td>Air Heads</td>\n",
       "      <td>No</td>\n",
       "      <td>Yes</td>\n",
       "      <td>No</td>\n",
       "      <td>No</td>\n",
       "      <td>No</td>\n",
       "      <td>No</td>\n",
       "      <td>No</td>\n",
       "      <td>No</td>\n",
       "      <td>No</td>\n",
       "      <td>0.906</td>\n",
       "      <td>0.511</td>\n",
       "      <td>52.341465</td>\n",
       "    </tr>\n",
       "    <tr>\n",
       "      <th>3</th>\n",
       "      <td>Almond Joy</td>\n",
       "      <td>Yes</td>\n",
       "      <td>No</td>\n",
       "      <td>No</td>\n",
       "      <td>Yes</td>\n",
       "      <td>No</td>\n",
       "      <td>No</td>\n",
       "      <td>No</td>\n",
       "      <td>Yes</td>\n",
       "      <td>No</td>\n",
       "      <td>0.465</td>\n",
       "      <td>0.767</td>\n",
       "      <td>50.347546</td>\n",
       "    </tr>\n",
       "    <tr>\n",
       "      <th>4</th>\n",
       "      <td>Baby Ruth</td>\n",
       "      <td>Yes</td>\n",
       "      <td>No</td>\n",
       "      <td>Yes</td>\n",
       "      <td>Yes</td>\n",
       "      <td>Yes</td>\n",
       "      <td>No</td>\n",
       "      <td>No</td>\n",
       "      <td>Yes</td>\n",
       "      <td>No</td>\n",
       "      <td>0.604</td>\n",
       "      <td>0.767</td>\n",
       "      <td>56.914547</td>\n",
       "    </tr>\n",
       "  </tbody>\n",
       "</table>\n",
       "</div>"
      ],
      "text/plain": [
       "   competitorname chocolate fruity caramel peanutyalmondy nougat  \\\n",
       "id                                                                 \n",
       "0       100 Grand       Yes     No     Yes             No     No   \n",
       "1    3 Musketeers       Yes     No      No             No    Yes   \n",
       "2       Air Heads        No    Yes      No             No     No   \n",
       "3      Almond Joy       Yes     No      No            Yes     No   \n",
       "4       Baby Ruth       Yes     No     Yes            Yes    Yes   \n",
       "\n",
       "   crispedricewafer hard  bar pluribus  sugarpercent  pricepercent  winpercent  \n",
       "id                                                                              \n",
       "0               Yes   No  Yes       No         0.732         0.860   66.971725  \n",
       "1                No   No  Yes       No         0.604         0.511   67.602936  \n",
       "2                No   No   No       No         0.906         0.511   52.341465  \n",
       "3                No   No  Yes       No         0.465         0.767   50.347546  \n",
       "4                No   No  Yes       No         0.604         0.767   56.914547  "
      ]
     },
     "execution_count": 5,
     "metadata": {},
     "output_type": "execute_result"
    }
   ],
   "source": [
    "# Print the first five rows of the data\n",
    "candy_data.head() # Your code here"
   ]
  },
  {
   "cell_type": "markdown",
   "id": "4a023dee",
   "metadata": {
    "papermill": {
     "duration": 0.009394,
     "end_time": "2022-07-04T16:44:33.630332",
     "exception": false,
     "start_time": "2022-07-04T16:44:33.620938",
     "status": "completed"
    },
    "tags": []
   },
   "source": [
    "The dataset contains 83 rows, where each corresponds to a different candy bar.  There are 13 columns:\n",
    "- `'competitorname'` contains the name of the candy bar. \n",
    "- the next **9** columns (from `'chocolate'` to `'pluribus'`) describe the candy.  For instance, rows with chocolate candies have `\"Yes\"` in the `'chocolate'` column (and candies without chocolate have `\"No\"` in the same column).\n",
    "- `'sugarpercent'` provides some indication of the amount of sugar, where higher values signify higher sugar content.\n",
    "- `'pricepercent'` shows the price per unit, relative to the other candies in the dataset.\n",
    "- `'winpercent'` is calculated from the survey results; higher values indicate that the candy was more popular with survey respondents.\n",
    "\n",
    "Use the first five rows of the data to answer the questions below."
   ]
  },
  {
   "cell_type": "code",
   "execution_count": 6,
   "id": "bb54d339",
   "metadata": {
    "execution": {
     "iopub.execute_input": "2022-07-04T16:44:33.651170Z",
     "iopub.status.busy": "2022-07-04T16:44:33.650795Z",
     "iopub.status.idle": "2022-07-04T16:44:33.659131Z",
     "shell.execute_reply": "2022-07-04T16:44:33.658187Z"
    },
    "papermill": {
     "duration": 0.021111,
     "end_time": "2022-07-04T16:44:33.661131",
     "exception": false,
     "start_time": "2022-07-04T16:44:33.640020",
     "status": "completed"
    },
    "tags": []
   },
   "outputs": [
    {
     "data": {
      "application/javascript": [
       "parent.postMessage({\"jupyterEvent\": \"custom.exercise_interaction\", \"data\": {\"outcomeType\": 1, \"valueTowardsCompletion\": 0.3333333333333333, \"interactionType\": 1, \"questionType\": 1, \"questionId\": \"2_ReviewData\", \"learnToolsVersion\": \"0.3.4\", \"failureMessage\": \"\", \"exceptionClass\": \"\", \"trace\": \"\"}}, \"*\")"
      ],
      "text/plain": [
       "<IPython.core.display.Javascript object>"
      ]
     },
     "metadata": {},
     "output_type": "display_data"
    },
    {
     "data": {
      "text/markdown": [
       "<span style=\"color:#33cc33\">Correct</span>"
      ],
      "text/plain": [
       "Correct"
      ]
     },
     "metadata": {},
     "output_type": "display_data"
    }
   ],
   "source": [
    "# Fill in the line below: Which candy was more popular with survey respondents:\n",
    "# '3 Musketeers' or 'Almond Joy'?  (Please enclose your answer in single quotes.)\n",
    "more_popular = '3 Musketeers'\n",
    "\n",
    "# Fill in the line below: Which candy has higher sugar content: 'Air Heads'\n",
    "# or 'Baby Ruth'? (Please enclose your answer in single quotes.)\n",
    "more_sugar = 'Air Heads'\n",
    "\n",
    "# Check your answers\n",
    "step_2.check()"
   ]
  },
  {
   "cell_type": "code",
   "execution_count": 7,
   "id": "12a3193d",
   "metadata": {
    "execution": {
     "iopub.execute_input": "2022-07-04T16:44:33.682410Z",
     "iopub.status.busy": "2022-07-04T16:44:33.682049Z",
     "iopub.status.idle": "2022-07-04T16:44:33.686332Z",
     "shell.execute_reply": "2022-07-04T16:44:33.685338Z"
    },
    "papermill": {
     "duration": 0.017449,
     "end_time": "2022-07-04T16:44:33.688450",
     "exception": false,
     "start_time": "2022-07-04T16:44:33.671001",
     "status": "completed"
    },
    "tags": []
   },
   "outputs": [],
   "source": [
    "# Lines below will give you a hint or solution code\n",
    "#step_2.hint()\n",
    "#step_2.solution()"
   ]
  },
  {
   "cell_type": "markdown",
   "id": "df186b3b",
   "metadata": {
    "papermill": {
     "duration": 0.009711,
     "end_time": "2022-07-04T16:44:33.708325",
     "exception": false,
     "start_time": "2022-07-04T16:44:33.698614",
     "status": "completed"
    },
    "tags": []
   },
   "source": [
    "## Step 3: The role of sugar\n",
    "\n",
    "Do people tend to prefer candies with higher sugar content?  \n",
    "\n",
    "#### Part A\n",
    "\n",
    "Create a scatter plot that shows the relationship between `'sugarpercent'` (on the horizontal x-axis) and `'winpercent'` (on the vertical y-axis).  _Don't add a regression line just yet -- you'll do that in the next step!_"
   ]
  },
  {
   "cell_type": "code",
   "execution_count": 8,
   "id": "81511bb4",
   "metadata": {
    "execution": {
     "iopub.execute_input": "2022-07-04T16:44:33.729780Z",
     "iopub.status.busy": "2022-07-04T16:44:33.729432Z",
     "iopub.status.idle": "2022-07-04T16:44:33.955283Z",
     "shell.execute_reply": "2022-07-04T16:44:33.953461Z"
    },
    "papermill": {
     "duration": 0.239301,
     "end_time": "2022-07-04T16:44:33.957492",
     "exception": false,
     "start_time": "2022-07-04T16:44:33.718191",
     "status": "completed"
    },
    "tags": []
   },
   "outputs": [
    {
     "data": {
      "application/javascript": [
       "parent.postMessage({\"jupyterEvent\": \"custom.exercise_interaction\", \"data\": {\"outcomeType\": 1, \"valueTowardsCompletion\": 0.3333333333333333, \"interactionType\": 1, \"questionType\": 2, \"questionId\": \"3.1_PlotBlueScatter\", \"learnToolsVersion\": \"0.3.4\", \"failureMessage\": \"\", \"exceptionClass\": \"\", \"trace\": \"\"}}, \"*\")"
      ],
      "text/plain": [
       "<IPython.core.display.Javascript object>"
      ]
     },
     "metadata": {},
     "output_type": "display_data"
    },
    {
     "data": {
      "text/markdown": [
       "<span style=\"color:#33cc33\">Correct</span>"
      ],
      "text/plain": [
       "Correct"
      ]
     },
     "metadata": {},
     "output_type": "display_data"
    },
    {
     "data": {
      "image/png": "[encoded data removed]",
      "text/plain": [
       "<Figure size 432x288 with 1 Axes>"
      ]
     },
     "metadata": {
      "needs_background": "light"
     },
     "output_type": "display_data"
    }
   ],
   "source": [
    "# Scatter plot showing the relationship between 'sugarpercent' and 'winpercent'\n",
    "sns.scatterplot(x = candy_data['sugarpercent'], y = candy_data['winpercent'], color = 'red')\n",
    "\n",
    "# Check your answer\n",
    "step_3.a.check()"
   ]
  },
  {
   "cell_type": "code",
   "execution_count": 9,
   "id": "dfc743d9",
   "metadata": {
    "execution": {
     "iopub.execute_input": "2022-07-04T16:44:33.980958Z",
     "iopub.status.busy": "2022-07-04T16:44:33.980540Z",
     "iopub.status.idle": "2022-07-04T16:44:33.985083Z",
     "shell.execute_reply": "2022-07-04T16:44:33.983937Z"
    },
    "papermill": {
     "duration": 0.018912,
     "end_time": "2022-07-04T16:44:33.987430",
     "exception": false,
     "start_time": "2022-07-04T16:44:33.968518",
     "status": "completed"
    },
    "tags": []
   },
   "outputs": [],
   "source": [
    "# Lines below will give you a hint or solution code\n",
    "#step_3.a.hint()\n",
    "#step_3.a.solution_plot()"
   ]
  },
  {
   "cell_type": "markdown",
   "id": "f5178f45",
   "metadata": {
    "papermill": {
     "duration": 0.010941,
     "end_time": "2022-07-04T16:44:34.009245",
     "exception": false,
     "start_time": "2022-07-04T16:44:33.998304",
     "status": "completed"
    },
    "tags": []
   },
   "source": [
    "#### Part B\n",
    "\n",
    "Does the scatter plot show a **strong** correlation between the two variables?  If so, are candies with more sugar relatively more or less popular with the survey respondents?"
   ]
  },
  {
   "cell_type": "code",
   "execution_count": 10,
   "id": "8c98d01a",
   "metadata": {
    "execution": {
     "iopub.execute_input": "2022-07-04T16:44:34.032519Z",
     "iopub.status.busy": "2022-07-04T16:44:34.032118Z",
     "iopub.status.idle": "2022-07-04T16:44:34.037120Z",
     "shell.execute_reply": "2022-07-04T16:44:34.035981Z"
    },
    "papermill": {
     "duration": 0.019113,
     "end_time": "2022-07-04T16:44:34.039127",
     "exception": false,
     "start_time": "2022-07-04T16:44:34.020014",
     "status": "completed"
    },
    "tags": []
   },
   "outputs": [],
   "source": [
    "#step_3.b.hint()"
   ]
  },
  {
   "cell_type": "code",
   "execution_count": 11,
   "id": "699ea80f",
   "metadata": {
    "execution": {
     "iopub.execute_input": "2022-07-04T16:44:34.062778Z",
     "iopub.status.busy": "2022-07-04T16:44:34.062134Z",
     "iopub.status.idle": "2022-07-04T16:44:34.068890Z",
     "shell.execute_reply": "2022-07-04T16:44:34.068184Z"
    },
    "papermill": {
     "duration": 0.020931,
     "end_time": "2022-07-04T16:44:34.070897",
     "exception": false,
     "start_time": "2022-07-04T16:44:34.049966",
     "status": "completed"
    },
    "tags": []
   },
   "outputs": [
    {
     "data": {
      "application/javascript": [
       "parent.postMessage({\"jupyterEvent\": \"custom.exercise_interaction\", \"data\": {\"interactionType\": 3, \"questionType\": 4, \"questionId\": \"3.2_ThinkBlueScatter\", \"learnToolsVersion\": \"0.3.4\", \"valueTowardsCompletion\": 0.0, \"failureMessage\": \"\", \"exceptionClass\": \"\", \"trace\": \"\", \"outcomeType\": 4}}, \"*\")"
      ],
      "text/plain": [
       "<IPython.core.display.Javascript object>"
      ]
     },
     "metadata": {},
     "output_type": "display_data"
    },
    {
     "data": {
      "text/markdown": [
       "<span style=\"color:#33cc99\">Solution:</span> The scatter plot does not show a strong correlation between the two variables. Since there is no clear relationship between the two variables, this tells us that sugar content does not play a strong role in candy popularity."
      ],
      "text/plain": [
       "Solution: The scatter plot does not show a strong correlation between the two variables. Since there is no clear relationship between the two variables, this tells us that sugar content does not play a strong role in candy popularity."
      ]
     },
     "metadata": {},
     "output_type": "display_data"
    }
   ],
   "source": [
    "# Check your answer (Run this code cell to receive credit!)\n",
    "step_3.b.solution()"
   ]
  },
  {
   "cell_type": "markdown",
   "id": "77492808",
   "metadata": {
    "papermill": {
     "duration": 0.010799,
     "end_time": "2022-07-04T16:44:34.092729",
     "exception": false,
     "start_time": "2022-07-04T16:44:34.081930",
     "status": "completed"
    },
    "tags": []
   },
   "source": [
    "## Step 4: Take a closer look\n",
    "\n",
    "#### Part A\n",
    "\n",
    "Create the same scatter plot you created in **Step 3**, but now with a regression line!"
   ]
  },
  {
   "cell_type": "code",
   "execution_count": 12,
   "id": "cc39bd00",
   "metadata": {
    "execution": {
     "iopub.execute_input": "2022-07-04T16:44:34.116561Z",
     "iopub.status.busy": "2022-07-04T16:44:34.115880Z",
     "iopub.status.idle": "2022-07-04T16:44:34.407705Z",
     "shell.execute_reply": "2022-07-04T16:44:34.406640Z"
    },
    "papermill": {
     "duration": 0.306387,
     "end_time": "2022-07-04T16:44:34.410106",
     "exception": false,
     "start_time": "2022-07-04T16:44:34.103719",
     "status": "completed"
    },
    "tags": []
   },
   "outputs": [
    {
     "data": {
      "application/javascript": [
       "parent.postMessage({\"jupyterEvent\": \"custom.exercise_interaction\", \"data\": {\"outcomeType\": 1, \"valueTowardsCompletion\": 0.3333333333333333, \"interactionType\": 1, \"questionType\": 2, \"questionId\": \"4.1_PlotBlueReg\", \"learnToolsVersion\": \"0.3.4\", \"failureMessage\": \"\", \"exceptionClass\": \"\", \"trace\": \"\"}}, \"*\")"
      ],
      "text/plain": [
       "<IPython.core.display.Javascript object>"
      ]
     },
     "metadata": {},
     "output_type": "display_data"
    },
    {
     "data": {
      "text/markdown": [
       "<span style=\"color:#33cc33\">Correct</span>"
      ],
      "text/plain": [
       "Correct"
      ]
     },
     "metadata": {},
     "output_type": "display_data"
    },
    {
     "data": {
      "image/png": "[encoded data removed]",
      "text/plain": [
       "<Figure size 432x288 with 1 Axes>"
      ]
     },
     "metadata": {
      "needs_background": "light"
     },
     "output_type": "display_data"
    }
   ],
   "source": [
    "# Scatter plot w/ regression line showing the relationship between 'sugarpercent' and 'winpercent'\n",
    "sns.regplot(x = candy_data['sugarpercent'], y = candy_data['winpercent'], color = 'blue')\n",
    "\n",
    "# Check your answer\n",
    "step_4.a.check()"
   ]
  },
  {
   "cell_type": "code",
   "execution_count": 13,
   "id": "f070a3c6",
   "metadata": {
    "execution": {
     "iopub.execute_input": "2022-07-04T16:44:34.435437Z",
     "iopub.status.busy": "2022-07-04T16:44:34.434550Z",
     "iopub.status.idle": "2022-07-04T16:44:34.438562Z",
     "shell.execute_reply": "2022-07-04T16:44:34.437927Z"
    },
    "papermill": {
     "duration": 0.018701,
     "end_time": "2022-07-04T16:44:34.440323",
     "exception": false,
     "start_time": "2022-07-04T16:44:34.421622",
     "status": "completed"
    },
    "tags": []
   },
   "outputs": [],
   "source": [
    "# Lines below will give you a hint or solution code\n",
    "#step_4.a.hint()\n",
    "#step_4.a.solution_plot()"
   ]
  },
  {
   "cell_type": "markdown",
   "id": "e3dfcdce",
   "metadata": {
    "papermill": {
     "duration": 0.011408,
     "end_time": "2022-07-04T16:44:34.463250",
     "exception": false,
     "start_time": "2022-07-04T16:44:34.451842",
     "status": "completed"
    },
    "tags": []
   },
   "source": [
    "#### Part B\n",
    "\n",
    "According to the plot above, is there a **slight** correlation between `'winpercent'` and `'sugarpercent'`?  What does this tell you about the candy that people tend to prefer?"
   ]
  },
  {
   "cell_type": "code",
   "execution_count": 14,
   "id": "8cec146e",
   "metadata": {
    "execution": {
     "iopub.execute_input": "2022-07-04T16:44:34.488994Z",
     "iopub.status.busy": "2022-07-04T16:44:34.487812Z",
     "iopub.status.idle": "2022-07-04T16:44:34.492111Z",
     "shell.execute_reply": "2022-07-04T16:44:34.491277Z"
    },
    "papermill": {
     "duration": 0.019177,
     "end_time": "2022-07-04T16:44:34.494317",
     "exception": false,
     "start_time": "2022-07-04T16:44:34.475140",
     "status": "completed"
    },
    "tags": []
   },
   "outputs": [],
   "source": [
    "#step_4.b.hint()"
   ]
  },
  {
   "cell_type": "code",
   "execution_count": 15,
   "id": "06ab1642",
   "metadata": {
    "execution": {
     "iopub.execute_input": "2022-07-04T16:44:34.519222Z",
     "iopub.status.busy": "2022-07-04T16:44:34.518824Z",
     "iopub.status.idle": "2022-07-04T16:44:34.526083Z",
     "shell.execute_reply": "2022-07-04T16:44:34.525315Z"
    },
    "papermill": {
     "duration": 0.021974,
     "end_time": "2022-07-04T16:44:34.527971",
     "exception": false,
     "start_time": "2022-07-04T16:44:34.505997",
     "status": "completed"
    },
    "tags": []
   },
   "outputs": [
    {
     "data": {
      "application/javascript": [
       "parent.postMessage({\"jupyterEvent\": \"custom.exercise_interaction\", \"data\": {\"interactionType\": 3, \"questionType\": 4, \"questionId\": \"4.2_ThinkBlueReg\", \"learnToolsVersion\": \"0.3.4\", \"valueTowardsCompletion\": 0.0, \"failureMessage\": \"\", \"exceptionClass\": \"\", \"trace\": \"\", \"outcomeType\": 4}}, \"*\")"
      ],
      "text/plain": [
       "<IPython.core.display.Javascript object>"
      ]
     },
     "metadata": {},
     "output_type": "display_data"
    },
    {
     "data": {
      "text/markdown": [
       "<span style=\"color:#33cc99\">Solution:</span> Since the regression line has a slightly positive slope, this tells us that there is a slightly positive correlation between `'winpercent'` and `'sugarpercent'`. Thus, people have a slight preference for candies containing relatively more sugar."
      ],
      "text/plain": [
       "Solution: Since the regression line has a slightly positive slope, this tells us that there is a slightly positive correlation between `'winpercent'` and `'sugarpercent'`. Thus, people have a slight preference for candies containing relatively more sugar."
      ]
     },
     "metadata": {},
     "output_type": "display_data"
    }
   ],
   "source": [
    "# Check your answer (Run this code cell to receive credit!)\n",
    "step_4.b.solution()"
   ]
  },
  {
   "cell_type": "markdown",
   "id": "e633f78c",
   "metadata": {
    "papermill": {
     "duration": 0.011487,
     "end_time": "2022-07-04T16:44:34.551723",
     "exception": false,
     "start_time": "2022-07-04T16:44:34.540236",
     "status": "completed"
    },
    "tags": []
   },
   "source": [
    "## Step 5: Chocolate!\n",
    "\n",
    "In the code cell below, create a scatter plot to show the relationship between `'pricepercent'` (on the horizontal x-axis) and `'winpercent'` (on the vertical y-axis). Use the `'chocolate'` column to color-code the points.  _Don't add any regression lines just yet -- you'll do that in the next step!_"
   ]
  },
  {
   "cell_type": "code",
   "execution_count": 16,
   "id": "6b3f25b3",
   "metadata": {
    "execution": {
     "iopub.execute_input": "2022-07-04T16:44:34.578014Z",
     "iopub.status.busy": "2022-07-04T16:44:34.576923Z",
     "iopub.status.idle": "2022-07-04T16:44:34.776166Z",
     "shell.execute_reply": "2022-07-04T16:44:34.775048Z"
    },
    "papermill": {
     "duration": 0.214669,
     "end_time": "2022-07-04T16:44:34.778477",
     "exception": false,
     "start_time": "2022-07-04T16:44:34.563808",
     "status": "completed"
    },
    "tags": []
   },
   "outputs": [
    {
     "data": {
      "application/javascript": [
       "parent.postMessage({\"jupyterEvent\": \"custom.exercise_interaction\", \"data\": {\"outcomeType\": 1, \"valueTowardsCompletion\": 0.3333333333333333, \"interactionType\": 1, \"questionType\": 2, \"questionId\": \"5_ColorScatter\", \"learnToolsVersion\": \"0.3.4\", \"failureMessage\": \"\", \"exceptionClass\": \"\", \"trace\": \"\"}}, \"*\")"
      ],
      "text/plain": [
       "<IPython.core.display.Javascript object>"
      ]
     },
     "metadata": {},
     "output_type": "display_data"
    },
    {
     "data": {
      "text/markdown": [
       "<span style=\"color:#33cc33\">Correct</span>"
      ],
      "text/plain": [
       "Correct"
      ]
     },
     "metadata": {},
     "output_type": "display_data"
    },
    {
     "data": {
      "image/png": "[encoded data removed]",
      "text/plain": [
       "<Figure size 432x288 with 1 Axes>"
      ]
     },
     "metadata": {
      "needs_background": "light"
     },
     "output_type": "display_data"
    }
   ],
   "source": [
    "# Scatter plot showing the relationship between 'pricepercent', 'winpercent', and 'chocolate'\n",
    "sns.scatterplot(x = candy_data['pricepercent'], y = candy_data['winpercent'], color = 'chocolate') # Your code here\n",
    "\n",
    "# Check your answer\n",
    "step_5.check()"
   ]
  },
  {
   "cell_type": "code",
   "execution_count": 17,
   "id": "8168c222",
   "metadata": {
    "execution": {
     "iopub.execute_input": "2022-07-04T16:44:34.806655Z",
     "iopub.status.busy": "2022-07-04T16:44:34.805890Z",
     "iopub.status.idle": "2022-07-04T16:44:34.810779Z",
     "shell.execute_reply": "2022-07-04T16:44:34.809737Z"
    },
    "papermill": {
     "duration": 0.021787,
     "end_time": "2022-07-04T16:44:34.813009",
     "exception": false,
     "start_time": "2022-07-04T16:44:34.791222",
     "status": "completed"
    },
    "tags": []
   },
   "outputs": [],
   "source": [
    "# Lines below will give you a hint or solution code\n",
    "#step_5.hint()\n",
    "#step_5.solution_plot()"
   ]
  },
  {
   "cell_type": "markdown",
   "id": "5f73f8a7",
   "metadata": {
    "papermill": {
     "duration": 0.012477,
     "end_time": "2022-07-04T16:44:34.838038",
     "exception": false,
     "start_time": "2022-07-04T16:44:34.825561",
     "status": "completed"
    },
    "tags": []
   },
   "source": [
    "Can you see any interesting patterns in the scatter plot?  We'll investigate this plot further  by adding regression lines in the next step!\n",
    "\n",
    "## Step 6: Investigate chocolate\n",
    "\n",
    "#### Part A\n",
    "\n",
    "Create the same scatter plot you created in **Step 5**, but now with two regression lines, corresponding to (1) chocolate candies and (2) candies without chocolate."
   ]
  },
  {
   "cell_type": "code",
   "execution_count": 18,
   "id": "9615a582",
   "metadata": {
    "execution": {
     "iopub.execute_input": "2022-07-04T16:44:34.865257Z",
     "iopub.status.busy": "2022-07-04T16:44:34.864460Z",
     "iopub.status.idle": "2022-07-04T16:44:35.471106Z",
     "shell.execute_reply": "2022-07-04T16:44:35.469781Z"
    },
    "papermill": {
     "duration": 0.623394,
     "end_time": "2022-07-04T16:44:35.473860",
     "exception": false,
     "start_time": "2022-07-04T16:44:34.850466",
     "status": "completed"
    },
    "tags": []
   },
   "outputs": [
    {
     "data": {
      "application/javascript": [
       "parent.postMessage({\"jupyterEvent\": \"custom.exercise_interaction\", \"data\": {\"outcomeType\": 1, \"valueTowardsCompletion\": 0.3333333333333333, \"interactionType\": 1, \"questionType\": 2, \"questionId\": \"6.1_PlotColorReg\", \"learnToolsVersion\": \"0.3.4\", \"failureMessage\": \"\", \"exceptionClass\": \"\", \"trace\": \"\"}}, \"*\")"
      ],
      "text/plain": [
       "<IPython.core.display.Javascript object>"
      ]
     },
     "metadata": {},
     "output_type": "display_data"
    },
    {
     "data": {
      "text/markdown": [
       "<span style=\"color:#33cc33\">Correct</span>"
      ],
      "text/plain": [
       "Correct"
      ]
     },
     "metadata": {},
     "output_type": "display_data"
    },
    {
     "data": {
      "image/png": "[encoded data removed]",
      "text/plain": [
       "<Figure size 416.375x360 with 1 Axes>"
      ]
     },
     "metadata": {
      "needs_background": "light"
     },
     "output_type": "display_data"
    }
   ],
   "source": [
    "# Color-coded scatter plot w/ regression lines\n",
    "sns.lmplot(x = 'pricepercent', y = 'winpercent', hue = 'chocolate', data = candy_data) # Your code here\n",
    "\n",
    "# Check your answer\n",
    "step_6.a.check()"
   ]
  },
  {
   "cell_type": "code",
   "execution_count": 19,
   "id": "74147ce9",
   "metadata": {
    "execution": {
     "iopub.execute_input": "2022-07-04T16:44:35.503030Z",
     "iopub.status.busy": "2022-07-04T16:44:35.502595Z",
     "iopub.status.idle": "2022-07-04T16:44:35.507565Z",
     "shell.execute_reply": "2022-07-04T16:44:35.506888Z"
    },
    "papermill": {
     "duration": 0.021846,
     "end_time": "2022-07-04T16:44:35.509492",
     "exception": false,
     "start_time": "2022-07-04T16:44:35.487646",
     "status": "completed"
    },
    "tags": []
   },
   "outputs": [],
   "source": [
    "# Lines below will give you a hint or solution code\n",
    "#step_6.a.hint()\n",
    "#step_6.a.solution_plot()"
   ]
  },
  {
   "cell_type": "markdown",
   "id": "bebbe4ac",
   "metadata": {
    "papermill": {
     "duration": 0.013203,
     "end_time": "2022-07-04T16:44:35.536058",
     "exception": false,
     "start_time": "2022-07-04T16:44:35.522855",
     "status": "completed"
    },
    "tags": []
   },
   "source": [
    "#### Part B\n",
    "\n",
    "Using the regression lines, what conclusions can you draw about the effects of chocolate and price on candy popularity?"
   ]
  },
  {
   "cell_type": "code",
   "execution_count": 20,
   "id": "cdba5156",
   "metadata": {
    "execution": {
     "iopub.execute_input": "2022-07-04T16:44:35.565108Z",
     "iopub.status.busy": "2022-07-04T16:44:35.563944Z",
     "iopub.status.idle": "2022-07-04T16:44:35.568411Z",
     "shell.execute_reply": "2022-07-04T16:44:35.567496Z"
    },
    "papermill": {
     "duration": 0.021095,
     "end_time": "2022-07-04T16:44:35.570439",
     "exception": false,
     "start_time": "2022-07-04T16:44:35.549344",
     "status": "completed"
    },
    "tags": []
   },
   "outputs": [],
   "source": [
    "#step_6.b.hint()"
   ]
  },
  {
   "cell_type": "code",
   "execution_count": 21,
   "id": "c05532cb",
   "metadata": {
    "execution": {
     "iopub.execute_input": "2022-07-04T16:44:35.601105Z",
     "iopub.status.busy": "2022-07-04T16:44:35.600251Z",
     "iopub.status.idle": "2022-07-04T16:44:35.607577Z",
     "shell.execute_reply": "2022-07-04T16:44:35.606829Z"
    },
    "papermill": {
     "duration": 0.024067,
     "end_time": "2022-07-04T16:44:35.609544",
     "exception": false,
     "start_time": "2022-07-04T16:44:35.585477",
     "status": "completed"
    },
    "tags": []
   },
   "outputs": [
    {
     "data": {
      "application/javascript": [
       "parent.postMessage({\"jupyterEvent\": \"custom.exercise_interaction\", \"data\": {\"interactionType\": 3, \"questionType\": 4, \"questionId\": \"6.2_ThinkColorReg\", \"learnToolsVersion\": \"0.3.4\", \"valueTowardsCompletion\": 0.0, \"failureMessage\": \"\", \"exceptionClass\": \"\", \"trace\": \"\", \"outcomeType\": 4}}, \"*\")"
      ],
      "text/plain": [
       "<IPython.core.display.Javascript object>"
      ]
     },
     "metadata": {},
     "output_type": "display_data"
    },
    {
     "data": {
      "text/markdown": [
       "<span style=\"color:#33cc99\">Solution:</span> We'll begin with the regression line for chocolate candies. Since this line has a slightly positive slope, we can say that more expensive chocolate candies tend to be more popular (than relatively cheaper chocolate candies).  Likewise, since the regression line for candies without chocolate has a negative slope, we can say that if candies don't contain chocolate, they tend to be more popular when they are cheaper.  One important note, however, is that the dataset is quite small -- so we shouldn't invest too much trust in these patterns!  To inspire more confidence in the results, we should add more candies to the dataset."
      ],
      "text/plain": [
       "Solution: We'll begin with the regression line for chocolate candies. Since this line has a slightly positive slope, we can say that more expensive chocolate candies tend to be more popular (than relatively cheaper chocolate candies).  Likewise, since the regression line for candies without chocolate has a negative slope, we can say that if candies don't contain chocolate, they tend to be more popular when they are cheaper.  One important note, however, is that the dataset is quite small -- so we shouldn't invest too much trust in these patterns!  To inspire more confidence in the results, we should add more candies to the dataset."
      ]
     },
     "metadata": {},
     "output_type": "display_data"
    }
   ],
   "source": [
    "# Check your answer (Run this code cell to receive credit!)\n",
    "step_6.b.solution()"
   ]
  },
  {
   "cell_type": "markdown",
   "id": "fd76d08f",
   "metadata": {
    "papermill": {
     "duration": 0.013535,
     "end_time": "2022-07-04T16:44:35.637056",
     "exception": false,
     "start_time": "2022-07-04T16:44:35.623521",
     "status": "completed"
    },
    "tags": []
   },
   "source": [
    "## Step 7: Everybody loves chocolate.\n",
    "\n",
    "#### Part A\n",
    "\n",
    "Create a categorical scatter plot to highlight the relationship between `'chocolate'` and `'winpercent'`.  Put `'chocolate'` on the (horizontal) x-axis, and `'winpercent'` on the (vertical) y-axis."
   ]
  },
  {
   "cell_type": "code",
   "execution_count": 22,
   "id": "a9a9a1ff",
   "metadata": {
    "execution": {
     "iopub.execute_input": "2022-07-04T16:44:35.666232Z",
     "iopub.status.busy": "2022-07-04T16:44:35.665555Z",
     "iopub.status.idle": "2022-07-04T16:44:35.847420Z",
     "shell.execute_reply": "2022-07-04T16:44:35.846689Z"
    },
    "papermill": {
     "duration": 0.198639,
     "end_time": "2022-07-04T16:44:35.849503",
     "exception": false,
     "start_time": "2022-07-04T16:44:35.650864",
     "status": "completed"
    },
    "tags": []
   },
   "outputs": [
    {
     "data": {
      "application/javascript": [
       "parent.postMessage({\"jupyterEvent\": \"custom.exercise_interaction\", \"data\": {\"outcomeType\": 1, \"valueTowardsCompletion\": 0.3333333333333333, \"interactionType\": 1, \"questionType\": 2, \"questionId\": \"7.1_PlotSwarm\", \"learnToolsVersion\": \"0.3.4\", \"failureMessage\": \"\", \"exceptionClass\": \"\", \"trace\": \"\"}}, \"*\")"
      ],
      "text/plain": [
       "<IPython.core.display.Javascript object>"
      ]
     },
     "metadata": {},
     "output_type": "display_data"
    },
    {
     "data": {
      "text/markdown": [
       "<span style=\"color:#33cc33\">Correct</span>"
      ],
      "text/plain": [
       "Correct"
      ]
     },
     "metadata": {},
     "output_type": "display_data"
    },
    {
     "data": {
      "image/png": "[encoded data removed]",
      "text/plain": [
       "<Figure size 432x288 with 1 Axes>"
      ]
     },
     "metadata": {
      "needs_background": "light"
     },
     "output_type": "display_data"
    }
   ],
   "source": [
    "# Scatter plot showing the relationship between 'chocolate' and 'winpercent'\n",
    "sns.swarmplot(x = candy_data['chocolate'], y = candy_data['winpercent']) # Your code here\n",
    "\n",
    "# Check your answer\n",
    "step_7.a.check()"
   ]
  },
  {
   "cell_type": "code",
   "execution_count": 23,
   "id": "23b0a0d9",
   "metadata": {
    "execution": {
     "iopub.execute_input": "2022-07-04T16:44:35.881323Z",
     "iopub.status.busy": "2022-07-04T16:44:35.880638Z",
     "iopub.status.idle": "2022-07-04T16:44:35.884946Z",
     "shell.execute_reply": "2022-07-04T16:44:35.884032Z"
    },
    "papermill": {
     "duration": 0.022931,
     "end_time": "2022-07-04T16:44:35.887293",
     "exception": false,
     "start_time": "2022-07-04T16:44:35.864362",
     "status": "completed"
    },
    "tags": []
   },
   "outputs": [],
   "source": [
    "# Lines below will give you a hint or solution code\n",
    "#step_7.a.hint()\n",
    "#step_7.a.solution_plot()"
   ]
  },
  {
   "cell_type": "markdown",
   "id": "7f3e1990",
   "metadata": {
    "papermill": {
     "duration": 0.013749,
     "end_time": "2022-07-04T16:44:35.915160",
     "exception": false,
     "start_time": "2022-07-04T16:44:35.901411",
     "status": "completed"
    },
    "tags": []
   },
   "source": [
    "#### Part B\n",
    "\n",
    "You decide to dedicate a section of your report to the fact that chocolate candies tend to be more popular than candies without chocolate.  Which plot is more appropriate to tell this story: the plot from **Step 6**, or the plot from **Step 7**?"
   ]
  },
  {
   "cell_type": "code",
   "execution_count": 24,
   "id": "c5f7beb4",
   "metadata": {
    "execution": {
     "iopub.execute_input": "2022-07-04T16:44:35.946043Z",
     "iopub.status.busy": "2022-07-04T16:44:35.945589Z",
     "iopub.status.idle": "2022-07-04T16:44:35.949982Z",
     "shell.execute_reply": "2022-07-04T16:44:35.948946Z"
    },
    "papermill": {
     "duration": 0.022406,
     "end_time": "2022-07-04T16:44:35.952265",
     "exception": false,
     "start_time": "2022-07-04T16:44:35.929859",
     "status": "completed"
    },
    "tags": []
   },
   "outputs": [],
   "source": [
    "#step_7.b.hint()"
   ]
  },
  {
   "cell_type": "code",
   "execution_count": 25,
   "id": "2d9b0caf",
   "metadata": {
    "execution": {
     "iopub.execute_input": "2022-07-04T16:44:35.982992Z",
     "iopub.status.busy": "2022-07-04T16:44:35.982344Z",
     "iopub.status.idle": "2022-07-04T16:44:35.991311Z",
     "shell.execute_reply": "2022-07-04T16:44:35.990466Z"
    },
    "papermill": {
     "duration": 0.026845,
     "end_time": "2022-07-04T16:44:35.993515",
     "exception": false,
     "start_time": "2022-07-04T16:44:35.966670",
     "status": "completed"
    },
    "tags": []
   },
   "outputs": [
    {
     "data": {
      "application/javascript": [
       "parent.postMessage({\"jupyterEvent\": \"custom.exercise_interaction\", \"data\": {\"interactionType\": 3, \"questionType\": 4, \"questionId\": \"7.2_ThinkSwarm\", \"learnToolsVersion\": \"0.3.4\", \"valueTowardsCompletion\": 0.0, \"failureMessage\": \"\", \"exceptionClass\": \"\", \"trace\": \"\", \"outcomeType\": 4}}, \"*\")"
      ],
      "text/plain": [
       "<IPython.core.display.Javascript object>"
      ]
     },
     "metadata": {},
     "output_type": "display_data"
    },
    {
     "data": {
      "text/markdown": [
       "<span style=\"color:#33cc99\">Solution:</span> In this case, the categorical scatter plot from **Step 7** is the more appropriate plot. While both plots tell the desired story, the plot from **Step 6** conveys far more information that could distract from the main point."
      ],
      "text/plain": [
       "Solution: In this case, the categorical scatter plot from **Step 7** is the more appropriate plot. While both plots tell the desired story, the plot from **Step 6** conveys far more information that could distract from the main point."
      ]
     },
     "metadata": {},
     "output_type": "display_data"
    }
   ],
   "source": [
    "# Check your answer (Run this code cell to receive credit!)\n",
    "step_7.b.solution()"
   ]
  },
  {
   "cell_type": "markdown",
   "id": "e0aa38a5",
   "metadata": {
    "papermill": {
     "duration": 0.014468,
     "end_time": "2022-07-04T16:44:36.022757",
     "exception": false,
     "start_time": "2022-07-04T16:44:36.008289",
     "status": "completed"
    },
    "tags": []
   },
   "source": [
    "## Keep going\n",
    "\n",
    "Explore **[histograms and density plots](https://www.kaggle.com/alexisbcook/distributions)**."
   ]
  },
  {
   "cell_type": "markdown",
   "id": "246d5fdc",
   "metadata": {
    "papermill": {
     "duration": 0.015007,
     "end_time": "2022-07-04T16:44:36.052551",
     "exception": false,
     "start_time": "2022-07-04T16:44:36.037544",
     "status": "completed"
    },
    "tags": []
   },
   "source": [
    "---\n",
    "\n",
    "\n",
    "\n",
    "\n",
    "*Have questions or comments? Visit the [course discussion forum](https://www.kaggle.com/learn/data-visualization/discussion) to chat with other learners.*"
   ]
  }
 ],
 "metadata": {
  "kernelspec": {
   "display_name": "Python 3",
   "language": "python",
   "name": "python3"
  },
  "language_info": {
   "codemirror_mode": {
    "name": "ipython",
    "version": 3
   },
   "file_extension": ".py",
   "mimetype": "text/x-python",
   "name": "python",
   "nbconvert_exporter": "python",
   "pygments_lexer": "ipython3",
   "version": "3.7.12"
  },
  "papermill": {
   "default_parameters": {},
   "duration": 13.802016,
   "end_time": "2022-07-04T16:44:36.787527",
   "environment_variables": {},
   "exception": null,
   "input_path": "__notebook__.ipynb",
   "output_path": "__notebook__.ipynb",
   "parameters": {},
   "start_time": "2022-07-04T16:44:22.985511",
   "version": "2.3.4"
  }
 },
 "nbformat": 4,
 "nbformat_minor": 5
}
